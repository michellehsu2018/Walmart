{
 "cells": [
  {
   "cell_type": "code",
   "execution_count": 1,
   "metadata": {
    "collapsed": true
   },
   "outputs": [],
   "source": [
    "import pandas as pd\n",
    "import numpy as np\n",
    "import matplotlib.pyplot as plt\n",
    "%matplotlib inline\n",
    "import seaborn as sns\n",
    "import warnings\n",
    "warnings.filterwarnings('ignore')"
   ]
  },
  {
   "cell_type": "markdown",
   "metadata": {},
   "source": [
    "## Step 1: Data Preprocess"
   ]
  },
  {
   "cell_type": "code",
   "execution_count": 2,
   "metadata": {
    "collapsed": true
   },
   "outputs": [],
   "source": [
    "data = pd.read_csv(\"train.csv\", dtype = {'VisitNumber': str, 'Upc': str, 'FinelineNumber':str, 'TripType':\"category\" , 'Weekday':\"category\"})"
   ]
  },
  {
   "cell_type": "code",
   "execution_count": 3,
   "metadata": {
    "collapsed": true
   },
   "outputs": [],
   "source": [
    "#Leave out Upc\n",
    "data.drop('Upc', axis = 1, inplace = True)"
   ]
  },
  {
   "cell_type": "code",
   "execution_count": 4,
   "metadata": {
    "scrolled": false
   },
   "outputs": [
    {
     "name": "stdout",
     "output_type": "stream",
     "text": [
      "<class 'pandas.core.frame.DataFrame'>\n",
      "RangeIndex: 647054 entries, 0 to 647053\n",
      "Data columns (total 6 columns):\n",
      "TripType                 647054 non-null category\n",
      "VisitNumber              647054 non-null object\n",
      "Weekday                  647054 non-null category\n",
      "ScanCount                647054 non-null int64\n",
      "DepartmentDescription    645693 non-null object\n",
      "FinelineNumber           642925 non-null object\n",
      "dtypes: category(2), int64(1), object(3)\n",
      "memory usage: 21.0+ MB\n"
     ]
    }
   ],
   "source": [
    "data.info() #647054 rows × 6 columns"
   ]
  },
  {
   "cell_type": "markdown",
   "metadata": {},
   "source": [
    "### Missing Value"
   ]
  },
  {
   "cell_type": "code",
   "execution_count": 5,
   "metadata": {},
   "outputs": [
    {
     "data": {
      "text/plain": [
       "TripType                    0\n",
       "VisitNumber                 0\n",
       "Weekday                     0\n",
       "ScanCount                   0\n",
       "DepartmentDescription    1361\n",
       "FinelineNumber           4129\n",
       "dtype: int64"
      ]
     },
     "execution_count": 5,
     "metadata": {},
     "output_type": "execute_result"
    }
   ],
   "source": [
    "data.isnull().sum()"
   ]
  },
  {
   "cell_type": "code",
   "execution_count": 6,
   "metadata": {
    "scrolled": false
   },
   "outputs": [
    {
     "data": {
      "image/png": "[encoded data removed]",
      "text/plain": [
       "<matplotlib.figure.Figure at 0x1a18dd6a58>"
      ]
     },
     "metadata": {},
     "output_type": "display_data"
    }
   ],
   "source": [
    "plt.figure(figsize=(8,6))\n",
    "sns.set_style(\"darkgrid\")\n",
    "data.isnull().sum().plot.bar()\n",
    "plt.title(\"Missing value count\")\n",
    "plt.show()"
   ]
  },
  {
   "cell_type": "code",
   "execution_count": 7,
   "metadata": {
    "scrolled": false
   },
   "outputs": [
    {
     "data": {
      "text/plain": [
       "(array([  6.,   0.,   0.,   1.,   0.,   0.,  84.,   0.,   0.,  63.]),\n",
       " array([ 0. ,  0.3,  0.6,  0.9,  1.2,  1.5,  1.8,  2.1,  2.4,  2.7,  3. ]),\n",
       " <a list of 10 Patch objects>)"
      ]
     },
     "execution_count": 7,
     "metadata": {},
     "output_type": "execute_result"
    },
    {
     "data": {
      "image/png": "[encoded data removed]",
      "text/plain": [
       "<matplotlib.figure.Figure at 0x1a18dd6710>"
      ]
     },
     "metadata": {},
     "output_type": "display_data"
    }
   ],
   "source": [
    "data[(data['DepartmentDescription'].isnull()) | (data['FinelineNumber'].isnull())] #4129 rows\n",
    "pharmacy_null = data[((data['FinelineNumber'].isnull())) & (data['DepartmentDescription'] == 'PHARMACY RX')] #2768 rows\n",
    "pharmacy_notnull = data[((data['FinelineNumber'].notnull())) & (data['DepartmentDescription'] == 'PHARMACY RX')] \n",
    "plt.hist(pharmacy_notnull['FinelineNumber'])"
   ]
  },
  {
   "cell_type": "code",
   "execution_count": 8,
   "metadata": {
    "collapsed": true,
    "scrolled": false
   },
   "outputs": [],
   "source": [
    "#Deal with missing FinelineNumber in 'PHARMACY RX' with replacement of '9999'\n",
    "phar_missing_index = list(data[(data['DepartmentDescription'] == 'PHARMACY RX') & (data['FinelineNumber'].isnull())].index)\n",
    "for i in phar_missing_index:\n",
    "    data[\"FinelineNumber\"].iloc[i] = \"9999\""
   ]
  },
  {
   "cell_type": "code",
   "execution_count": 9,
   "metadata": {
    "collapsed": true
   },
   "outputs": [],
   "source": [
    "data.dropna(inplace = True) "
   ]
  },
  {
   "cell_type": "code",
   "execution_count": 10,
   "metadata": {
    "scrolled": true
   },
   "outputs": [],
   "source": [
    "trip = list(data[['VisitNumber', 'TripType']].drop_duplicates()['TripType'])"
   ]
  },
  {
   "cell_type": "code",
   "execution_count": 11,
   "metadata": {
    "collapsed": true
   },
   "outputs": [],
   "source": [
    "data.drop('TripType', axis = 1, inplace = True)#(645693, 5)"
   ]
  },
  {
   "cell_type": "markdown",
   "metadata": {},
   "source": [
    "### Spreading features"
   ]
  },
  {
   "cell_type": "markdown",
   "metadata": {},
   "source": [
    "#### 1. FinelineNumber"
   ]
  },
  {
   "cell_type": "code",
   "execution_count": 12,
   "metadata": {
    "collapsed": true
   },
   "outputs": [],
   "source": [
    "data['VisitNumber'] = data['VisitNumber'].astype(int, copy=False)"
   ]
  },
  {
   "cell_type": "code",
   "execution_count": 13,
   "metadata": {},
   "outputs": [
    {
     "data": {
      "text/plain": [
       "95516"
      ]
     },
     "execution_count": 13,
     "metadata": {},
     "output_type": "execute_result"
    }
   ],
   "source": [
    "len(data['VisitNumber'].unique())"
   ]
  },
  {
   "cell_type": "code",
   "execution_count": 14,
   "metadata": {
    "collapsed": true
   },
   "outputs": [],
   "source": [
    "group_visit_fineline = data.groupby(['VisitNumber','FinelineNumber']).agg({'FinelineNumber':'count'})"
   ]
  },
  {
   "cell_type": "code",
   "execution_count": 15,
   "metadata": {
    "collapsed": true,
    "scrolled": true
   },
   "outputs": [],
   "source": [
    "fn = group_visit_fineline.unstack() "
   ]
  },
  {
   "cell_type": "code",
   "execution_count": 16,
   "metadata": {
    "collapsed": true,
    "scrolled": true
   },
   "outputs": [],
   "source": [
    "fn = fn['FinelineNumber']\n",
    "fn.fillna(0, inplace= True)"
   ]
  },
  {
   "cell_type": "code",
   "execution_count": 17,
   "metadata": {},
   "outputs": [],
   "source": [
    "#finelineNumber columns\n",
    "fn_seq = list(fn.columns)"
   ]
  },
  {
   "cell_type": "code",
   "execution_count": 18,
   "metadata": {
    "collapsed": true,
    "scrolled": true
   },
   "outputs": [],
   "source": [
    "X = np.array(fn) #(95516, 5196)"
   ]
  },
  {
   "cell_type": "code",
   "execution_count": 19,
   "metadata": {
    "collapsed": true
   },
   "outputs": [],
   "source": [
    "#X[X > 0] = 1"
   ]
  },
  {
   "cell_type": "code",
   "execution_count": 20,
   "metadata": {},
   "outputs": [],
   "source": [
    "#visitNumber sequence\n",
    "vn_seq = list(fn.index)"
   ]
  },
  {
   "cell_type": "markdown",
   "metadata": {},
   "source": [
    "#### 2. Weekday"
   ]
  },
  {
   "cell_type": "code",
   "execution_count": 21,
   "metadata": {
    "collapsed": true
   },
   "outputs": [],
   "source": [
    "day = pd.get_dummies(data[[\"VisitNumber\", \"Weekday\"]], columns = [\"Weekday\"])\n",
    "day = day.drop_duplicates()"
   ]
  },
  {
   "cell_type": "code",
   "execution_count": 22,
   "metadata": {
    "collapsed": true
   },
   "outputs": [],
   "source": [
    "day.drop('VisitNumber', axis = 1, inplace = True)"
   ]
  },
  {
   "cell_type": "code",
   "execution_count": 23,
   "metadata": {
    "collapsed": true,
    "scrolled": true
   },
   "outputs": [],
   "source": [
    "day.head()\n",
    "day = day[['Weekday_Sunday', 'Weekday_Monday', 'Weekday_Tuesday', 'Weekday_Wednesday', 'Weekday_Thursday', 'Weekday_Friday', 'Weekday_Saturday']]"
   ]
  },
  {
   "cell_type": "code",
   "execution_count": 24,
   "metadata": {},
   "outputs": [],
   "source": [
    "day_seq= list(day.columns)"
   ]
  },
  {
   "cell_type": "code",
   "execution_count": 25,
   "metadata": {
    "collapsed": true
   },
   "outputs": [],
   "source": [
    "X_day = np.array(day)"
   ]
  },
  {
   "cell_type": "code",
   "execution_count": 26,
   "metadata": {
    "collapsed": true
   },
   "outputs": [],
   "source": [
    "temp = np.concatenate((X, X_day), axis=1)"
   ]
  },
  {
   "cell_type": "code",
   "execution_count": 27,
   "metadata": {},
   "outputs": [
    {
     "data": {
      "text/plain": [
       "(95516, 5203)"
      ]
     },
     "execution_count": 27,
     "metadata": {},
     "output_type": "execute_result"
    }
   ],
   "source": [
    "temp.shape"
   ]
  },
  {
   "cell_type": "markdown",
   "metadata": {},
   "source": [
    "#### 3. DepartmentDescription"
   ]
  },
  {
   "cell_type": "code",
   "execution_count": 28,
   "metadata": {
    "collapsed": true
   },
   "outputs": [],
   "source": [
    "dept = data.groupby(['VisitNumber','DepartmentDescription']).agg({'DepartmentDescription':'count'})\n",
    "dept = dept.unstack()\n",
    "dept = dept['DepartmentDescription']\n",
    "dept.fillna(0, inplace= True)"
   ]
  },
  {
   "cell_type": "code",
   "execution_count": 29,
   "metadata": {},
   "outputs": [],
   "source": [
    "dept_seq= list(dept.columns)"
   ]
  },
  {
   "cell_type": "code",
   "execution_count": 30,
   "metadata": {
    "collapsed": true
   },
   "outputs": [],
   "source": [
    "department = np.array(dept) \n",
    "#department[department > 0] = 1"
   ]
  },
  {
   "cell_type": "code",
   "execution_count": 31,
   "metadata": {
    "collapsed": true
   },
   "outputs": [],
   "source": [
    "final = np.concatenate((temp, department), axis=1) #(95516, 5271)"
   ]
  },
  {
   "cell_type": "code",
   "execution_count": 32,
   "metadata": {
    "collapsed": true
   },
   "outputs": [],
   "source": [
    "final = final.astype(np.float32, copy=False)#(95516, 5271)"
   ]
  },
  {
   "cell_type": "markdown",
   "metadata": {},
   "source": [
    "#### 4. ScanCount"
   ]
  },
  {
   "cell_type": "code",
   "execution_count": 33,
   "metadata": {
    "collapsed": true
   },
   "outputs": [],
   "source": [
    "sc = data.groupby(['VisitNumber'], as_index = False).agg({'ScanCount':'sum'})"
   ]
  },
  {
   "cell_type": "code",
   "execution_count": 34,
   "metadata": {
    "collapsed": true
   },
   "outputs": [],
   "source": [
    "def scanlevel(row):\n",
    "    if row <0 :\n",
    "        return 'return'\n",
    "    elif row<5:\n",
    "        return \"few\"\n",
    "    elif row <15:\n",
    "        return \"medium\"\n",
    "    else:\n",
    "        return \"many\""
   ]
  },
  {
   "cell_type": "code",
   "execution_count": 35,
   "metadata": {
    "collapsed": true
   },
   "outputs": [],
   "source": [
    "sc[\"sc_level\"] = sc[\"ScanCount\"].apply(scanlevel)"
   ]
  },
  {
   "cell_type": "code",
   "execution_count": 36,
   "metadata": {},
   "outputs": [
    {
     "data": {
      "text/html": [
       "<div>\n",
       "<style>\n",
       "    .dataframe thead tr:only-child th {\n",
       "        text-align: right;\n",
       "    }\n",
       "\n",
       "    .dataframe thead th {\n",
       "        text-align: left;\n",
       "    }\n",
       "\n",
       "    .dataframe tbody tr th {\n",
       "        vertical-align: top;\n",
       "    }\n",
       "</style>\n",
       "<table border=\"1\" class=\"dataframe\">\n",
       "  <thead>\n",
       "    <tr style=\"text-align: right;\">\n",
       "      <th></th>\n",
       "      <th>VisitNumber</th>\n",
       "      <th>ScanCount</th>\n",
       "      <th>sc_level</th>\n",
       "    </tr>\n",
       "  </thead>\n",
       "  <tbody>\n",
       "    <tr>\n",
       "      <th>0</th>\n",
       "      <td>5</td>\n",
       "      <td>-1</td>\n",
       "      <td>return</td>\n",
       "    </tr>\n",
       "    <tr>\n",
       "      <th>1</th>\n",
       "      <td>7</td>\n",
       "      <td>2</td>\n",
       "      <td>few</td>\n",
       "    </tr>\n",
       "    <tr>\n",
       "      <th>2</th>\n",
       "      <td>8</td>\n",
       "      <td>27</td>\n",
       "      <td>many</td>\n",
       "    </tr>\n",
       "    <tr>\n",
       "      <th>3</th>\n",
       "      <td>9</td>\n",
       "      <td>3</td>\n",
       "      <td>few</td>\n",
       "    </tr>\n",
       "    <tr>\n",
       "      <th>4</th>\n",
       "      <td>10</td>\n",
       "      <td>3</td>\n",
       "      <td>few</td>\n",
       "    </tr>\n",
       "  </tbody>\n",
       "</table>\n",
       "</div>"
      ],
      "text/plain": [
       "   VisitNumber  ScanCount sc_level\n",
       "0            5         -1   return\n",
       "1            7          2      few\n",
       "2            8         27     many\n",
       "3            9          3      few\n",
       "4           10          3      few"
      ]
     },
     "execution_count": 36,
     "metadata": {},
     "output_type": "execute_result"
    }
   ],
   "source": [
    "sc.head()"
   ]
  },
  {
   "cell_type": "code",
   "execution_count": 37,
   "metadata": {
    "collapsed": true
   },
   "outputs": [],
   "source": [
    "sc_dummy = pd.get_dummies(sc[[\"VisitNumber\", \"sc_level\"]], columns = [\"sc_level\"])"
   ]
  },
  {
   "cell_type": "code",
   "execution_count": 38,
   "metadata": {
    "collapsed": true
   },
   "outputs": [],
   "source": [
    "sc_dummy = sc_dummy[[\"VisitNumber\", 'sc_level_return','sc_level_few','sc_level_medium','sc_level_many']]"
   ]
  },
  {
   "cell_type": "code",
   "execution_count": 39,
   "metadata": {
    "collapsed": true
   },
   "outputs": [],
   "source": [
    "sc_dummy.drop(\"VisitNumber\", axis =1, inplace = True)"
   ]
  },
  {
   "cell_type": "code",
   "execution_count": 40,
   "metadata": {},
   "outputs": [],
   "source": [
    "sc_seq = list(sc_dummy.columns)"
   ]
  },
  {
   "cell_type": "code",
   "execution_count": 41,
   "metadata": {
    "collapsed": true
   },
   "outputs": [],
   "source": [
    "sc_array = np.array(sc_dummy)"
   ]
  },
  {
   "cell_type": "code",
   "execution_count": 42,
   "metadata": {
    "collapsed": true
   },
   "outputs": [],
   "source": [
    "df = np.concatenate((final, sc_array), axis=1) #(95516, 5275)"
   ]
  },
  {
   "cell_type": "code",
   "execution_count": 63,
   "metadata": {},
   "outputs": [
    {
     "data": {
      "text/plain": [
       "['0',\n",
       " '1',\n",
       " '10',\n",
       " '100',\n",
       " '1000',\n",
       " '1001',\n",
       " '1002',\n",
       " '1003',\n",
       " '1004',\n",
       " '1005',\n",
       " '1006',\n",
       " '1007',\n",
       " '1008',\n",
       " '1009',\n",
       " '101',\n",
       " '1010',\n",
       " '1011',\n",
       " '1012',\n",
       " '1013',\n",
       " '1014',\n",
       " '1015',\n",
       " '1016',\n",
       " '1017',\n",
       " '1018',\n",
       " '1019',\n",
       " '102',\n",
       " '1020',\n",
       " '1021',\n",
       " '1022',\n",
       " '1023',\n",
       " '1025',\n",
       " '1026',\n",
       " '1027',\n",
       " '1028',\n",
       " '1029',\n",
       " '103',\n",
       " '1030',\n",
       " '1031',\n",
       " '1032',\n",
       " '1033',\n",
       " '1034',\n",
       " '1035',\n",
       " '1037',\n",
       " '1039',\n",
       " '104',\n",
       " '1040',\n",
       " '1041',\n",
       " '1042',\n",
       " '1043',\n",
       " '1045',\n",
       " '1046',\n",
       " '1048',\n",
       " '105',\n",
       " '1050',\n",
       " '1052',\n",
       " '1053',\n",
       " '1056',\n",
       " '1057',\n",
       " '1058',\n",
       " '1059',\n",
       " '106',\n",
       " '1060',\n",
       " '1061',\n",
       " '1062',\n",
       " '1063',\n",
       " '1064',\n",
       " '1065',\n",
       " '1066',\n",
       " '1067',\n",
       " '1069',\n",
       " '107',\n",
       " '1070',\n",
       " '1071',\n",
       " '1072',\n",
       " '1073',\n",
       " '1074',\n",
       " '1075',\n",
       " '1077',\n",
       " '1078',\n",
       " '108',\n",
       " '1080',\n",
       " '1081',\n",
       " '1084',\n",
       " '1085',\n",
       " '1086',\n",
       " '109',\n",
       " '1090',\n",
       " '1094',\n",
       " '1096',\n",
       " '1097',\n",
       " '1099',\n",
       " '11',\n",
       " '110',\n",
       " '1100',\n",
       " '1101',\n",
       " '1102',\n",
       " '1103',\n",
       " '1104',\n",
       " '1105',\n",
       " '1106',\n",
       " '1107',\n",
       " '1108',\n",
       " '1109',\n",
       " '111',\n",
       " '1110',\n",
       " '1111',\n",
       " '1112',\n",
       " '1113',\n",
       " '1114',\n",
       " '1115',\n",
       " '1116',\n",
       " '1117',\n",
       " '1118',\n",
       " '1119',\n",
       " '112',\n",
       " '1120',\n",
       " '1121',\n",
       " '1122',\n",
       " '1125',\n",
       " '1127',\n",
       " '113',\n",
       " '1130',\n",
       " '1133',\n",
       " '1134',\n",
       " '1135',\n",
       " '1136',\n",
       " '1137',\n",
       " '114',\n",
       " '1140',\n",
       " '1145',\n",
       " '1146',\n",
       " '115',\n",
       " '1150',\n",
       " '1151',\n",
       " '1152',\n",
       " '1153',\n",
       " '1156',\n",
       " '1157',\n",
       " '1159',\n",
       " '116',\n",
       " '1160',\n",
       " '1161',\n",
       " '1162',\n",
       " '1163',\n",
       " '1164',\n",
       " '1165',\n",
       " '1166',\n",
       " '1167',\n",
       " '1168',\n",
       " '1169',\n",
       " '117',\n",
       " '1170',\n",
       " '1172',\n",
       " '1173',\n",
       " '1174',\n",
       " '1175',\n",
       " '1176',\n",
       " '118',\n",
       " '1180',\n",
       " '1181',\n",
       " '1182',\n",
       " '119',\n",
       " '1190',\n",
       " '1192',\n",
       " '1198',\n",
       " '1199',\n",
       " '12',\n",
       " '120',\n",
       " '1200',\n",
       " '1201',\n",
       " '1202',\n",
       " '1203',\n",
       " '1204',\n",
       " '1205',\n",
       " '1206',\n",
       " '1207',\n",
       " '1208',\n",
       " '1209',\n",
       " '121',\n",
       " '1210',\n",
       " '1211',\n",
       " '1212',\n",
       " '1213',\n",
       " '1214',\n",
       " '1215',\n",
       " '1216',\n",
       " '1217',\n",
       " '1218',\n",
       " '1219',\n",
       " '122',\n",
       " '1220',\n",
       " '1221',\n",
       " '1222',\n",
       " '1224',\n",
       " '1225',\n",
       " '1226',\n",
       " '1227',\n",
       " '1228',\n",
       " '1229',\n",
       " '123',\n",
       " '1230',\n",
       " '1231',\n",
       " '1232',\n",
       " '1233',\n",
       " '1235',\n",
       " '1236',\n",
       " '1237',\n",
       " '1238',\n",
       " '1239',\n",
       " '124',\n",
       " '1240',\n",
       " '1241',\n",
       " '1242',\n",
       " '1246',\n",
       " '1248',\n",
       " '1249',\n",
       " '125',\n",
       " '1250',\n",
       " '1251',\n",
       " '1252',\n",
       " '1253',\n",
       " '1254',\n",
       " '1256',\n",
       " '1257',\n",
       " '126',\n",
       " '1260',\n",
       " '1262',\n",
       " '1264',\n",
       " '1265',\n",
       " '1266',\n",
       " '1267',\n",
       " '1268',\n",
       " '1269',\n",
       " '127',\n",
       " '1270',\n",
       " '1272',\n",
       " '1275',\n",
       " '1277',\n",
       " '1278',\n",
       " '1279',\n",
       " '128',\n",
       " '1280',\n",
       " '1281',\n",
       " '1285',\n",
       " '1286',\n",
       " '1287',\n",
       " '1288',\n",
       " '1289',\n",
       " '129',\n",
       " '1290',\n",
       " '1292',\n",
       " '1295',\n",
       " '1298',\n",
       " '13',\n",
       " '130',\n",
       " '1300',\n",
       " '1301',\n",
       " '1302',\n",
       " '1303',\n",
       " '1304',\n",
       " '1305',\n",
       " '1306',\n",
       " '1307',\n",
       " '1308',\n",
       " '1309',\n",
       " '131',\n",
       " '1310',\n",
       " '1311',\n",
       " '1312',\n",
       " '1313',\n",
       " '1314',\n",
       " '1315',\n",
       " '1316',\n",
       " '1317',\n",
       " '1318',\n",
       " '1319',\n",
       " '132',\n",
       " '1320',\n",
       " '1321',\n",
       " '1322',\n",
       " '1324',\n",
       " '1329',\n",
       " '133',\n",
       " '1330',\n",
       " '1333',\n",
       " '1334',\n",
       " '1335',\n",
       " '1336',\n",
       " '1337',\n",
       " '134',\n",
       " '1340',\n",
       " '1341',\n",
       " '1342',\n",
       " '1343',\n",
       " '1344',\n",
       " '1345',\n",
       " '1346',\n",
       " '1347',\n",
       " '1348',\n",
       " '135',\n",
       " '1350',\n",
       " '1351',\n",
       " '1352',\n",
       " '1353',\n",
       " '1354',\n",
       " '1355',\n",
       " '1356',\n",
       " '1357',\n",
       " '1358',\n",
       " '1359',\n",
       " '136',\n",
       " '1360',\n",
       " '1363',\n",
       " '1364',\n",
       " '1366',\n",
       " '137',\n",
       " '1376',\n",
       " '138',\n",
       " '1385',\n",
       " '1388',\n",
       " '139',\n",
       " '1390',\n",
       " '1393',\n",
       " '1396',\n",
       " '14',\n",
       " '140',\n",
       " '1400',\n",
       " '1401',\n",
       " '1402',\n",
       " '1403',\n",
       " '1404',\n",
       " '1405',\n",
       " '1406',\n",
       " '1407',\n",
       " '1408',\n",
       " '1409',\n",
       " '141',\n",
       " '1410',\n",
       " '1411',\n",
       " '1412',\n",
       " '1413',\n",
       " '1414',\n",
       " '1415',\n",
       " '1417',\n",
       " '1418',\n",
       " '1419',\n",
       " '142',\n",
       " '1420',\n",
       " '1421',\n",
       " '1423',\n",
       " '1424',\n",
       " '1425',\n",
       " '1426',\n",
       " '1427',\n",
       " '1428',\n",
       " '143',\n",
       " '1430',\n",
       " '1431',\n",
       " '1433',\n",
       " '1435',\n",
       " '1436',\n",
       " '1437',\n",
       " '1438',\n",
       " '1439',\n",
       " '144',\n",
       " '1440',\n",
       " '1441',\n",
       " '1442',\n",
       " '1443',\n",
       " '1444',\n",
       " '1445',\n",
       " '1446',\n",
       " '145',\n",
       " '1450',\n",
       " '1451',\n",
       " '1452',\n",
       " '1453',\n",
       " '1458',\n",
       " '146',\n",
       " '1462',\n",
       " '1465',\n",
       " '147',\n",
       " '1470',\n",
       " '1475',\n",
       " '1480',\n",
       " '1481',\n",
       " '1483',\n",
       " '1484',\n",
       " '149',\n",
       " '1490',\n",
       " '1498',\n",
       " '15',\n",
       " '150',\n",
       " '1500',\n",
       " '1501',\n",
       " '1502',\n",
       " '1503',\n",
       " '1504',\n",
       " '1505',\n",
       " '1506',\n",
       " '1507',\n",
       " '1508',\n",
       " '1509',\n",
       " '151',\n",
       " '1510',\n",
       " '1511',\n",
       " '1512',\n",
       " '1513',\n",
       " '1514',\n",
       " '1515',\n",
       " '1516',\n",
       " '1517',\n",
       " '1518',\n",
       " '1520',\n",
       " '1521',\n",
       " '1522',\n",
       " '1523',\n",
       " '1524',\n",
       " '1525',\n",
       " '1526',\n",
       " '1529',\n",
       " '153',\n",
       " '1530',\n",
       " '1531',\n",
       " '1532',\n",
       " '1533',\n",
       " '1534',\n",
       " '1536',\n",
       " '154',\n",
       " '1540',\n",
       " '1541',\n",
       " '1542',\n",
       " '1543',\n",
       " '1544',\n",
       " '1545',\n",
       " '1546',\n",
       " '1547',\n",
       " '155',\n",
       " '1550',\n",
       " '1551',\n",
       " '1552',\n",
       " '1553',\n",
       " '1554',\n",
       " '1555',\n",
       " '1556',\n",
       " '1557',\n",
       " '1558',\n",
       " '1559',\n",
       " '1560',\n",
       " '1561',\n",
       " '1563',\n",
       " '1565',\n",
       " '1566',\n",
       " '157',\n",
       " '1577',\n",
       " '1582',\n",
       " '1583',\n",
       " '159',\n",
       " '1590',\n",
       " '1593',\n",
       " '16',\n",
       " '160',\n",
       " '1600',\n",
       " '1601',\n",
       " '1602',\n",
       " '1603',\n",
       " '1604',\n",
       " '1605',\n",
       " '1606',\n",
       " '1607',\n",
       " '1609',\n",
       " '1610',\n",
       " '1611',\n",
       " '1612',\n",
       " '1613',\n",
       " '1614',\n",
       " '1615',\n",
       " '1616',\n",
       " '1617',\n",
       " '1619',\n",
       " '1620',\n",
       " '1621',\n",
       " '1622',\n",
       " '1623',\n",
       " '1625',\n",
       " '1626',\n",
       " '1627',\n",
       " '1628',\n",
       " '1629',\n",
       " '1630',\n",
       " '1631',\n",
       " '1632',\n",
       " '1634',\n",
       " '1635',\n",
       " '1636',\n",
       " '1638',\n",
       " '164',\n",
       " '1640',\n",
       " '1641',\n",
       " '1643',\n",
       " '1645',\n",
       " '1647',\n",
       " '165',\n",
       " '1650',\n",
       " '1651',\n",
       " '1652',\n",
       " '1653',\n",
       " '1654',\n",
       " '1656',\n",
       " '1657',\n",
       " '1658',\n",
       " '166',\n",
       " '1660',\n",
       " '1663',\n",
       " '1665',\n",
       " '1668',\n",
       " '167',\n",
       " '1674',\n",
       " '1675',\n",
       " '1676',\n",
       " '168',\n",
       " '1686',\n",
       " '169',\n",
       " '1691',\n",
       " '1693',\n",
       " '17',\n",
       " '170',\n",
       " '1700',\n",
       " '1701',\n",
       " '1702',\n",
       " '1703',\n",
       " '1704',\n",
       " '1705',\n",
       " '1706',\n",
       " '1707',\n",
       " '1708',\n",
       " '1709',\n",
       " '1710',\n",
       " '1711',\n",
       " '1712',\n",
       " '1714',\n",
       " '1715',\n",
       " '1717',\n",
       " '1719',\n",
       " '172',\n",
       " '1720',\n",
       " '1721',\n",
       " '1722',\n",
       " '1723',\n",
       " '1724',\n",
       " '1725',\n",
       " '1727',\n",
       " '1728',\n",
       " '1729',\n",
       " '173',\n",
       " '1730',\n",
       " '1733',\n",
       " '1734',\n",
       " '1735',\n",
       " '1736',\n",
       " '1737',\n",
       " '1738',\n",
       " '1739',\n",
       " '174',\n",
       " '1740',\n",
       " '1741',\n",
       " '1742',\n",
       " '1743',\n",
       " '1744',\n",
       " '1745',\n",
       " '1746',\n",
       " '1747',\n",
       " '1748',\n",
       " '1749',\n",
       " '175',\n",
       " '1750',\n",
       " '1751',\n",
       " '1752',\n",
       " '1753',\n",
       " '1754',\n",
       " '1755',\n",
       " '176',\n",
       " '1760',\n",
       " '1765',\n",
       " '177',\n",
       " '1779',\n",
       " '178',\n",
       " '1780',\n",
       " '1789',\n",
       " '179',\n",
       " '1790',\n",
       " '1791',\n",
       " '1792',\n",
       " '1793',\n",
       " '1794',\n",
       " '18',\n",
       " '180',\n",
       " '1800',\n",
       " '1801',\n",
       " '1802',\n",
       " '1803',\n",
       " '1804',\n",
       " '1805',\n",
       " '1806',\n",
       " '1807',\n",
       " '1808',\n",
       " '1809',\n",
       " '181',\n",
       " '1810',\n",
       " '1813',\n",
       " '1818',\n",
       " '182',\n",
       " '1820',\n",
       " '1821',\n",
       " '1825',\n",
       " '1828',\n",
       " '183',\n",
       " '1830',\n",
       " '1831',\n",
       " '1835',\n",
       " '184',\n",
       " '1840',\n",
       " '185',\n",
       " '1850',\n",
       " '1851',\n",
       " '1852',\n",
       " '1853',\n",
       " '1854',\n",
       " '1855',\n",
       " '1856',\n",
       " '1857',\n",
       " '1862',\n",
       " '1864',\n",
       " '1865',\n",
       " '1872',\n",
       " '1874',\n",
       " '1875',\n",
       " '1876',\n",
       " '1877',\n",
       " '188',\n",
       " '189',\n",
       " '1890',\n",
       " '1891',\n",
       " '1899',\n",
       " '19',\n",
       " '190',\n",
       " '1900',\n",
       " '1901',\n",
       " '1902',\n",
       " '1903',\n",
       " '1904',\n",
       " '1905',\n",
       " '1906',\n",
       " '1907',\n",
       " '1908',\n",
       " '1909',\n",
       " '191',\n",
       " '1910',\n",
       " '1911',\n",
       " '1912',\n",
       " '1913',\n",
       " '1914',\n",
       " '1917',\n",
       " '1919',\n",
       " '192',\n",
       " '1921',\n",
       " '193',\n",
       " '1932',\n",
       " '1934',\n",
       " '1935',\n",
       " '1936',\n",
       " '1938',\n",
       " '1939',\n",
       " '194',\n",
       " '1941',\n",
       " '1943',\n",
       " '1946',\n",
       " '1947',\n",
       " '1948',\n",
       " '195',\n",
       " '1951',\n",
       " '1952',\n",
       " '1953',\n",
       " '1955',\n",
       " '196',\n",
       " '1970',\n",
       " '1973',\n",
       " '1975',\n",
       " '1978',\n",
       " '199',\n",
       " '1995',\n",
       " '1996',\n",
       " '1997',\n",
       " '1998',\n",
       " '1999',\n",
       " '2',\n",
       " '20',\n",
       " '200',\n",
       " '2000',\n",
       " '2001',\n",
       " '2002',\n",
       " '2003',\n",
       " '2004',\n",
       " '2005',\n",
       " '2006',\n",
       " '2007',\n",
       " '2008',\n",
       " '2009',\n",
       " '201',\n",
       " '2010',\n",
       " '2011',\n",
       " '2012',\n",
       " '2013',\n",
       " '2014',\n",
       " '2015',\n",
       " '2016',\n",
       " '2017',\n",
       " '2018',\n",
       " '2019',\n",
       " '202',\n",
       " '2020',\n",
       " '2021',\n",
       " '2022',\n",
       " '2024',\n",
       " '2025',\n",
       " '2028',\n",
       " '203',\n",
       " '2030',\n",
       " '2031',\n",
       " '2032',\n",
       " '2033',\n",
       " '2034',\n",
       " '2035',\n",
       " '2036',\n",
       " '2037',\n",
       " '2039',\n",
       " '204',\n",
       " '2040',\n",
       " '2041',\n",
       " '2042',\n",
       " '2043',\n",
       " '2044',\n",
       " '2045',\n",
       " '2046',\n",
       " '2048',\n",
       " '2049',\n",
       " '205',\n",
       " '2050',\n",
       " '2051',\n",
       " '2052',\n",
       " '2053',\n",
       " '2055',\n",
       " '2056',\n",
       " '2059',\n",
       " '206',\n",
       " '2060',\n",
       " '2061',\n",
       " '2062',\n",
       " '2063',\n",
       " '2064',\n",
       " '2065',\n",
       " '2067',\n",
       " '2068',\n",
       " '2069',\n",
       " '207',\n",
       " '2070',\n",
       " '2071',\n",
       " '2072',\n",
       " '2073',\n",
       " '2074',\n",
       " '2075',\n",
       " '2076',\n",
       " '2078',\n",
       " '2079',\n",
       " '208',\n",
       " '2080',\n",
       " '2081',\n",
       " '2086',\n",
       " '2087',\n",
       " '209',\n",
       " '2090',\n",
       " '2094',\n",
       " '2095',\n",
       " '2096',\n",
       " '2098',\n",
       " '2099',\n",
       " '21',\n",
       " '210',\n",
       " '2100',\n",
       " '2101',\n",
       " '2102',\n",
       " '2103',\n",
       " '2104',\n",
       " '2105',\n",
       " '2106',\n",
       " '2107',\n",
       " '2108',\n",
       " '2109',\n",
       " '211',\n",
       " '2110',\n",
       " '2111',\n",
       " '2112',\n",
       " '2113',\n",
       " '2114',\n",
       " '2115',\n",
       " '2116',\n",
       " '2117',\n",
       " '2118',\n",
       " '2119',\n",
       " '212',\n",
       " '2120',\n",
       " '2121',\n",
       " '2122',\n",
       " '2123',\n",
       " '2124',\n",
       " '2125',\n",
       " '2126',\n",
       " '2128',\n",
       " '213',\n",
       " '2130',\n",
       " '2131',\n",
       " '2134',\n",
       " '214',\n",
       " '2140',\n",
       " '215',\n",
       " '2150',\n",
       " '2151',\n",
       " '2152',\n",
       " '2153',\n",
       " '2154',\n",
       " '2155',\n",
       " '2156',\n",
       " '2157',\n",
       " '2159',\n",
       " '216',\n",
       " '2160',\n",
       " '2161',\n",
       " '217',\n",
       " '219',\n",
       " '2190',\n",
       " '2195',\n",
       " '2199',\n",
       " '22',\n",
       " '220',\n",
       " '2200',\n",
       " '2201',\n",
       " '2202',\n",
       " '2203',\n",
       " '2204',\n",
       " '2205',\n",
       " '2206',\n",
       " '2207',\n",
       " '2208',\n",
       " '221',\n",
       " '2210',\n",
       " '2211',\n",
       " '2214',\n",
       " '2215',\n",
       " '2216',\n",
       " '2218',\n",
       " '2219',\n",
       " '222',\n",
       " '2220',\n",
       " '2221',\n",
       " '2222',\n",
       " '2223',\n",
       " '2224',\n",
       " '2225',\n",
       " '2226',\n",
       " '2227',\n",
       " '2228',\n",
       " '2229',\n",
       " '223',\n",
       " '2230',\n",
       " '2231',\n",
       " '2232',\n",
       " '2233',\n",
       " '2234',\n",
       " '2235',\n",
       " '224',\n",
       " '2240',\n",
       " '2248',\n",
       " '2249',\n",
       " '225',\n",
       " '2250',\n",
       " '2251',\n",
       " '2252',\n",
       " '2253',\n",
       " '2254',\n",
       " '2255',\n",
       " '2256',\n",
       " '2257',\n",
       " '2258',\n",
       " '2259',\n",
       " '226',\n",
       " '2260',\n",
       " '2261',\n",
       " '2262',\n",
       " '2263',\n",
       " '2264',\n",
       " '2265',\n",
       " '2266',\n",
       " '2267',\n",
       " '227',\n",
       " '2270',\n",
       " '228',\n",
       " '2282',\n",
       " '2284',\n",
       " '2285',\n",
       " '2286',\n",
       " '2287',\n",
       " '2289',\n",
       " '229',\n",
       " '2291',\n",
       " '2299',\n",
       " '23',\n",
       " '230',\n",
       " '2300',\n",
       " '2301',\n",
       " '2302',\n",
       " '2303',\n",
       " '2304',\n",
       " '2305',\n",
       " '2306',\n",
       " '2307',\n",
       " '2308',\n",
       " '2309',\n",
       " '231',\n",
       " '2310',\n",
       " '2311',\n",
       " '2312',\n",
       " '2313',\n",
       " '2314',\n",
       " '2315',\n",
       " '2316',\n",
       " '2318',\n",
       " '232',\n",
       " '2320',\n",
       " '2323',\n",
       " '2325',\n",
       " '2328',\n",
       " '233',\n",
       " '2330',\n",
       " '2332',\n",
       " '2335',\n",
       " '2337',\n",
       " '2338',\n",
       " '2339',\n",
       " '234',\n",
       " '2340',\n",
       " '2342',\n",
       " '2345',\n",
       " '2347',\n",
       " '2348',\n",
       " '235',\n",
       " '2350',\n",
       " '2351',\n",
       " '2352',\n",
       " '2353',\n",
       " '2356',\n",
       " '2358',\n",
       " '2359',\n",
       " '236',\n",
       " '2360',\n",
       " '2361',\n",
       " '2362',\n",
       " '2363',\n",
       " '2365',\n",
       " '2370',\n",
       " '2372',\n",
       " '2373',\n",
       " '2375',\n",
       " '2376',\n",
       " '2377',\n",
       " '2378',\n",
       " '238',\n",
       " '2380',\n",
       " '2386',\n",
       " '2387',\n",
       " '2388',\n",
       " '2389',\n",
       " '239',\n",
       " '2391',\n",
       " '2392',\n",
       " '2393',\n",
       " '24',\n",
       " '240',\n",
       " '2400',\n",
       " '2401',\n",
       " '2402',\n",
       " '2403',\n",
       " '2404',\n",
       " '2405',\n",
       " '2406',\n",
       " '2408',\n",
       " '2409',\n",
       " '241',\n",
       " '2410',\n",
       " '2411',\n",
       " '2414',\n",
       " ...]"
      ]
     },
     "execution_count": 63,
     "metadata": {},
     "output_type": "execute_result"
    }
   ],
   "source": [
    "header = [] #5275\n",
    "header.extend(fn_seq)\n",
    "header.extend(day_seq)\n",
    "header.extend(dept_seq)\n",
    "header.extend(sc_seq)"
   ]
  },
  {
   "cell_type": "code",
   "execution_count": 47,
   "metadata": {},
   "outputs": [],
   "source": [
    "from scipy import sparse\n",
    "X_sparse = sparse.csr_matrix(df)"
   ]
  },
  {
   "cell_type": "code",
   "execution_count": 59,
   "metadata": {},
   "outputs": [],
   "source": [
    "t = np.array(trip)\n",
    "t = t.astype('int')\n",
    "tt =t[:,np.newaxis]"
   ]
  },
  {
   "cell_type": "code",
   "execution_count": 62,
   "metadata": {},
   "outputs": [],
   "source": [
    "np.savetxt(\"triptype.csv\", tt, delimiter = \",\")"
   ]
  },
  {
   "cell_type": "code",
   "execution_count": null,
   "metadata": {
    "collapsed": true
   },
   "outputs": [],
   "source": [
    "#scipy.sparse.save_npz('df_sparse_matrix.npz', X_sparse)\n",
    "#source:https://docs.scipy.org/doc/scipy/reference/generated/scipy.sparse.save_npz.html"
   ]
  }
 ],
 "metadata": {
  "kernelspec": {
   "display_name": "Python 3",
   "language": "python",
   "name": "python3"
  },
  "language_info": {
   "codemirror_mode": {
    "name": "ipython",
    "version": 3
   },
   "file_extension": ".py",
   "mimetype": "text/x-python",
   "name": "python",
   "nbconvert_exporter": "python",
   "pygments_lexer": "ipython3",
   "version": "3.6.3"
  }
 },
 "nbformat": 4,
 "nbformat_minor": 2
}
